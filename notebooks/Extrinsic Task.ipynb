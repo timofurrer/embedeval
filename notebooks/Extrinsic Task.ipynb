{
 "cells": [
  {
   "cell_type": "markdown",
   "metadata": {},
   "source": [
    "# Extrinsic NLP Task for Sentiment Analysis using a Word Embedding"
   ]
  },
  {
   "cell_type": "code",
   "execution_count": 138,
   "metadata": {},
   "outputs": [],
   "source": [
    "import re\n",
    "from pathlib import Path\n",
    "\n",
    "PROJECT_ROOT = Path().absolute().parent"
   ]
  },
  {
   "cell_type": "code",
   "execution_count": 11,
   "metadata": {},
   "outputs": [],
   "source": [
    "import embedeval\n",
    "from embedeval.parsers.word2vec_gensim import load_embedding"
   ]
  },
  {
   "cell_type": "code",
   "execution_count": 167,
   "metadata": {},
   "outputs": [],
   "source": [
    "import numpy as np\n",
    "import pandas as pd\n",
    "\n",
    "from keras.preprocessing.text import one_hot\n",
    "from keras.preprocessing.sequence import pad_sequences\n",
    "from keras.models import Sequential\n",
    "from keras.layers import Dense\n",
    "from keras.layers import Flatten\n",
    "from keras.layers import GlobalAveragePooling1D\n",
    "from keras.layers import LSTM\n",
    "from keras.layers import Dropout\n",
    "from keras.layers.embeddings import Embedding\n",
    "from keras.preprocessing.text import Tokenizer\n",
    "\n",
    "from nltk.tokenize import word_tokenize\n",
    "\n",
    "import matplotlib.pyplot as plt"
   ]
  },
  {
   "cell_type": "markdown",
   "metadata": {},
   "source": [
    "## Loading the Word Embedding"
   ]
  },
  {
   "cell_type": "code",
   "execution_count": 106,
   "metadata": {},
   "outputs": [],
   "source": [
    "EMBEDDING_PATH = PROJECT_ROOT / \"tests\" / \"data\" / \"downloads\" / \"cc.de.300.vec\""
   ]
  },
  {
   "cell_type": "code",
   "execution_count": 107,
   "metadata": {},
   "outputs": [],
   "source": [
    "embedding = load_embedding(EMBEDDING_PATH)"
   ]
  },
  {
   "cell_type": "markdown",
   "metadata": {},
   "source": [
    "## Prepare Text Corpus"
   ]
  },
  {
   "cell_type": "code",
   "execution_count": 47,
   "metadata": {},
   "outputs": [],
   "source": [
    "train_dataset_file = PROJECT_ROOT / \"src\" / \"embedeval\" / \"tasks\" / \"data\" / \"germeval2018.training.txt\"\n",
    "test_dataset_file = PROJECT_ROOT / \"src\" / \"embedeval\" / \"tasks\" / \"data\" / \"germeval2018.test.txt\""
   ]
  },
  {
   "cell_type": "code",
   "execution_count": 140,
   "metadata": {},
   "outputs": [],
   "source": [
    "def load_dataset(corpus_file):\n",
    "    df = pd.read_csv(corpus_file, sep=\"\\t\", names=[\"tweet\", \"label\"], usecols=[0, 1])\n",
    "    df[\"label\"] = df[\"label\"].map({\"OFFENSE\": 1, \"OTHER\": 0})\n",
    "    \n",
    "    # remove words starting with an @ from all tweets\n",
    "    def remove_mentions(text):\n",
    "        return re.sub(r\"@[A-Za-z0-9_]{3,}\", \"\", text)\n",
    "        \n",
    "    df[\"tweet\"] = df[\"tweet\"].apply(remove_mentions)\n",
    "    \n",
    "    return df"
   ]
  },
  {
   "cell_type": "markdown",
   "metadata": {},
   "source": [
    "### Load Train and Test Datasets"
   ]
  },
  {
   "cell_type": "code",
   "execution_count": 142,
   "metadata": {},
   "outputs": [
    {
     "data": {
      "text/html": [
       "<div>\n",
       "<style scoped>\n",
       "    .dataframe tbody tr th:only-of-type {\n",
       "        vertical-align: middle;\n",
       "    }\n",
       "\n",
       "    .dataframe tbody tr th {\n",
       "        vertical-align: top;\n",
       "    }\n",
       "\n",
       "    .dataframe thead th {\n",
       "        text-align: right;\n",
       "    }\n",
       "</style>\n",
       "<table border=\"1\" class=\"dataframe\">\n",
       "  <thead>\n",
       "    <tr style=\"text-align: right;\">\n",
       "      <th></th>\n",
       "      <th>tweet</th>\n",
       "      <th>label</th>\n",
       "    </tr>\n",
       "  </thead>\n",
       "  <tbody>\n",
       "    <tr>\n",
       "      <th>0</th>\n",
       "      <td>Liebe Corinna, wir würden dich gerne als Mode...</td>\n",
       "      <td>0</td>\n",
       "    </tr>\n",
       "    <tr>\n",
       "      <th>1</th>\n",
       "      <td>Sie haben ja auch Recht. Unser Tweet war etwa...</td>\n",
       "      <td>0</td>\n",
       "    </tr>\n",
       "    <tr>\n",
       "      <th>2</th>\n",
       "      <td>fröhlicher gruß aus der schönsten stadt der w...</td>\n",
       "      <td>0</td>\n",
       "    </tr>\n",
       "    <tr>\n",
       "      <th>3</th>\n",
       "      <td>Amis hätten alles und jeden gewählt...nur Hil...</td>\n",
       "      <td>0</td>\n",
       "    </tr>\n",
       "    <tr>\n",
       "      <th>4</th>\n",
       "      <td>kein verläßlicher Verhandlungspartner. Nachka...</td>\n",
       "      <td>1</td>\n",
       "    </tr>\n",
       "  </tbody>\n",
       "</table>\n",
       "</div>"
      ],
      "text/plain": [
       "                                               tweet  label\n",
       "0   Liebe Corinna, wir würden dich gerne als Mode...      0\n",
       "1   Sie haben ja auch Recht. Unser Tweet war etwa...      0\n",
       "2   fröhlicher gruß aus der schönsten stadt der w...      0\n",
       "3   Amis hätten alles und jeden gewählt...nur Hil...      0\n",
       "4   kein verläßlicher Verhandlungspartner. Nachka...      1"
      ]
     },
     "execution_count": 142,
     "metadata": {},
     "output_type": "execute_result"
    }
   ],
   "source": [
    "train_df = load_dataset(train_dataset_file)\n",
    "test_df = load_dataset(test_dataset_file)\n",
    "\n",
    "train_df.head()"
   ]
  },
  {
   "cell_type": "markdown",
   "metadata": {},
   "source": [
    "### Tokenize Text Corpus"
   ]
  },
  {
   "cell_type": "code",
   "execution_count": 205,
   "metadata": {},
   "outputs": [],
   "source": [
    "def calculate_sentence_length(corpus):\n",
    "    word_count = lambda sentence: len(word_tokenize(sentence))\n",
    "    longest_sentence = max(corpus, key=word_count)\n",
    "    length_long_sentence = len(word_tokenize(longest_sentence))\n",
    "    \n",
    "    return length_long_sentence\n",
    "    \n",
    "\n",
    "def tokenize_corpus(corpus):\n",
    "    word_tokenizer = Tokenizer()\n",
    "    word_tokenizer.fit_on_texts(corpus)\n",
    "    \n",
    "    return word_tokenizer\n",
    "\n",
    "\n",
    "def pad_text(corpus, text, sentence_length):\n",
    "    padded_text = pad_sequences(text, sentence_length, padding='post')\n",
    "    return padded_text\n",
    "\n",
    "\n",
    "def prepare_corpus(corpus, tokenizer, sentence_length):\n",
    "    text = tokenizer.texts_to_sequences(corpus)\n",
    "    padded_text = pad_text(corpus, text, sentence_length)\n",
    "    \n",
    "    return padded_text"
   ]
  },
  {
   "cell_type": "code",
   "execution_count": 206,
   "metadata": {},
   "outputs": [],
   "source": [
    "entire_corpus = pd.concat([train_df, test_df])[\"tweet\"]\n",
    "tokenizer = tokenize_corpus(entire_corpus)\n",
    "\n",
    "sentence_length = calculate_sentence_length(entire_corpus)\n",
    "\n",
    "train_corpus = prepare_corpus(train_df[\"tweet\"], tokenizer, sentence_length)\n",
    "test_corpus = prepare_corpus(test_df[\"tweet\"], tokenizer, sentence_length)"
   ]
  },
  {
   "cell_type": "markdown",
   "metadata": {},
   "source": [
    "### Create Embedding Matrix for Corpus"
   ]
  },
  {
   "cell_type": "code",
   "execution_count": 207,
   "metadata": {},
   "outputs": [],
   "source": [
    "def create_embedding_matrix(embedding, tokenizer):\n",
    "    # Get the Vocabulary length and add 1 for all unknown words\n",
    "    vocab_length = len(tokenizer.word_index) + 1\n",
    "    \n",
    "    embedding_matrix = np.zeros((vocab_length, 300))\n",
    "    \n",
    "    for word, index in tokenizer.word_index.items():\n",
    "        try:\n",
    "            embedding_vector = embedding.get_word_vector(word)\n",
    "        except KeyError:\n",
    "            embedding_vector = None\n",
    "            \n",
    "        if embedding_vector is not None:\n",
    "            embedding_matrix[index] = embedding_vector\n",
    "    \n",
    "    return embedding_matrix"
   ]
  },
  {
   "cell_type": "code",
   "execution_count": 208,
   "metadata": {},
   "outputs": [],
   "source": [
    "train_embedding_matrix = create_embedding_matrix(embedding, tokenizer)"
   ]
  },
  {
   "cell_type": "markdown",
   "metadata": {},
   "source": [
    "## Create Keras Model for Sentimental Analysis"
   ]
  },
  {
   "cell_type": "code",
   "execution_count": 227,
   "metadata": {},
   "outputs": [],
   "source": [
    "model = Sequential()\n",
    "model.add(Embedding(\n",
    "    train_embedding_matrix.shape[0], \n",
    "    train_embedding_matrix.shape[1], \n",
    "    weights=[train_embedding_matrix], \n",
    "    input_length=sentence_length, \n",
    "    #trainable=False,\n",
    "    trainable=True\n",
    "))\n",
    "\n",
    "#model.add(GlobalAveragePooling1D())\n",
    "#model.add(Dense(16, activation='relu'))\n",
    "\n",
    "model.add(Flatten())\n",
    "\n",
    "# model.add(LSTM(units=128, dropout=0.2, recurrent_dropout=0.2))     SLOW AF\n",
    "\n",
    "#model.add(Dense(256, activation='relu'))\n",
    "#model.add(Dropout(0.3))\n",
    "#model.add(Dense(256, activation='relu'))\n",
    "\n",
    "model.add(Dense(1, activation='sigmoid'))\n",
    "\n",
    "model.compile(optimizer='adam', loss='binary_crossentropy', metrics=['acc'])"
   ]
  },
  {
   "cell_type": "code",
   "execution_count": 228,
   "metadata": {},
   "outputs": [
    {
     "name": "stdout",
     "output_type": "stream",
     "text": [
      "Model: \"sequential_23\"\n",
      "_________________________________________________________________\n",
      "Layer (type)                 Output Shape              Param #   \n",
      "=================================================================\n",
      "embedding_22 (Embedding)     (None, 695, 300)          6482700   \n",
      "_________________________________________________________________\n",
      "flatten_9 (Flatten)          (None, 208500)            0         \n",
      "_________________________________________________________________\n",
      "dense_40 (Dense)             (None, 1)                 208501    \n",
      "=================================================================\n",
      "Total params: 6,691,201\n",
      "Trainable params: 6,691,201\n",
      "Non-trainable params: 0\n",
      "_________________________________________________________________\n"
     ]
    }
   ],
   "source": [
    "model.summary()"
   ]
  },
  {
   "cell_type": "code",
   "execution_count": 229,
   "metadata": {},
   "outputs": [
    {
     "name": "stderr",
     "output_type": "stream",
     "text": [
      "/home/tuxtimo/work/hslu-wipro/env/lib/python3.7/site-packages/tensorflow_core/python/framework/indexed_slices.py:424: UserWarning: Converting sparse IndexedSlices to a dense Tensor of unknown shape. This may consume a large amount of memory.\n",
      "  \"Converting sparse IndexedSlices to a dense Tensor of unknown shape. \"\n"
     ]
    },
    {
     "name": "stdout",
     "output_type": "stream",
     "text": [
      "Epoch 1/10\n",
      "5009/5009 [==============================] - 18s 4ms/step - loss: 0.6262 - acc: 0.6696\n",
      "Epoch 2/10\n",
      "5009/5009 [==============================] - 18s 4ms/step - loss: 0.3896 - acc: 0.8453\n",
      "Epoch 3/10\n",
      "5009/5009 [==============================] - 18s 4ms/step - loss: 0.1388 - acc: 0.9766\n",
      "Epoch 4/10\n",
      "5009/5009 [==============================] - 18s 4ms/step - loss: 0.0477 - acc: 0.9968\n",
      "Epoch 5/10\n",
      "5009/5009 [==============================] - 18s 4ms/step - loss: 0.0218 - acc: 0.9996\n",
      "Epoch 6/10\n",
      "5009/5009 [==============================] - 18s 4ms/step - loss: 0.0126 - acc: 0.9996\n",
      "Epoch 7/10\n",
      "5009/5009 [==============================] - 18s 4ms/step - loss: 0.0080 - acc: 0.9998\n",
      "Epoch 8/10\n",
      "5009/5009 [==============================] - 18s 4ms/step - loss: 0.0056 - acc: 0.9998\n",
      "Epoch 9/10\n",
      "5009/5009 [==============================] - 18s 4ms/step - loss: 0.0044 - acc: 0.9996\n",
      "Epoch 10/10\n",
      "5009/5009 [==============================] - 18s 4ms/step - loss: 0.0031 - acc: 0.9998\n"
     ]
    }
   ],
   "source": [
    "history = model.fit(train_corpus, train_df[\"label\"], epochs=10, verbose=1)"
   ]
  },
  {
   "cell_type": "code",
   "execution_count": 230,
   "metadata": {},
   "outputs": [
    {
     "data": {
      "image/png": "[encoded data removed]",
      "text/plain": [
       "<Figure size 432x288 with 1 Axes>"
      ]
     },
     "metadata": {
      "needs_background": "light"
     },
     "output_type": "display_data"
    }
   ],
   "source": [
    "loss = history.history['loss']\n",
    "acc = history.history['acc']\n",
    "\n",
    "epochs = list(range(1, 11))\n",
    "\n",
    "plt.plot(epochs, loss, 'ko', label='Training Loss')\n",
    "plt.xlabel('Epochs')\n",
    "plt.ylabel('Loss')\n",
    "plt.title('Training Loss')\n",
    "plt.legend()\n",
    "\n",
    "plt.plot(epochs, acc, 'yo', label='Training Accuracy')\n",
    "plt.xlabel('Epochs')\n",
    "plt.ylabel('Accuracy')\n",
    "plt.title('Training Accuracy')\n",
    "plt.legend()\n",
    "plt.show()"
   ]
  },
  {
   "cell_type": "markdown",
   "metadata": {},
   "source": [
    "## Evaluate Model"
   ]
  },
  {
   "cell_type": "code",
   "execution_count": 231,
   "metadata": {},
   "outputs": [
    {
     "data": {
      "text/plain": [
       "(0.7399163925696851, 0.7098293304443359)"
      ]
     },
     "execution_count": 231,
     "metadata": {},
     "output_type": "execute_result"
    }
   ],
   "source": [
    "loss, accuracy = model.evaluate(test_corpus, test_df[\"label\"], verbose=0)\n",
    "\n",
    "loss, accuracy"
   ]
  },
  {
   "cell_type": "code",
   "execution_count": null,
   "metadata": {},
   "outputs": [],
   "source": []
  }
 ],
 "metadata": {
  "kernelspec": {
   "display_name": "Python 3",
   "language": "python",
   "name": "python3"
  },
  "language_info": {
   "codemirror_mode": {
    "name": "ipython",
    "version": 3
   },
   "file_extension": ".py",
   "mimetype": "text/x-python",
   "name": "python",
   "nbconvert_exporter": "python",
   "pygments_lexer": "ipython3",
   "version": "3.7.3"
  }
 },
 "nbformat": 4,
 "nbformat_minor": 2
}
